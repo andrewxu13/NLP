{
 "cells": [
  {
   "cell_type": "code",
   "execution_count": 2,
   "metadata": {},
   "outputs": [],
   "source": [
    "#import\n",
    "import pandas as pd\n",
    "import seaborn as sns\n",
    "from nltk.sentiment import SentimentIntensityAnalyzer\n"
   ]
  },
  {
   "cell_type": "markdown",
   "metadata": {},
   "source": [
    "# Q1\n",
    "## What is the Y variable?\n",
    "### How many categories are there pre-processing?"
   ]
  },
  {
   "cell_type": "code",
   "execution_count": 3,
   "metadata": {},
   "outputs": [],
   "source": [
    "df = pd.read_csv('./Drugs.com reviews.csv')"
   ]
  },
  {
   "cell_type": "code",
   "execution_count": 4,
   "metadata": {},
   "outputs": [
    {
     "data": {
      "text/plain": [
       "Index(['Drug name', 'Condition', 'Review', 'Star rating', 'Date',\n",
       "       'Useful vote count'],\n",
       "      dtype='object')"
      ]
     },
     "execution_count": 4,
     "metadata": {},
     "output_type": "execute_result"
    }
   ],
   "source": [
    "df.columns"
   ]
  },
  {
   "cell_type": "code",
   "execution_count": 5,
   "metadata": {},
   "outputs": [
    {
     "data": {
      "text/plain": [
       "<Axes: xlabel='Star rating', ylabel='count'>"
      ]
     },
     "execution_count": 5,
     "metadata": {},
     "output_type": "execute_result"
    },
    {
     "data": {
      "image/png": "[encoded data removed]",
      "text/plain": [
       "<Figure size 640x480 with 1 Axes>"
      ]
     },
     "metadata": {},
     "output_type": "display_data"
    }
   ],
   "source": [
    "# We should use Star rating as the target variable\n",
    "# lets check the distribution of the star rating\n",
    "df['Star rating'].value_counts()\n",
    "#plot the distribution of the star rating\n",
    "#use seaborn\n",
    "sns.countplot(x='Star rating', data=df)"
   ]
  },
  {
   "cell_type": "markdown",
   "metadata": {},
   "source": [
    "# Q2 \n",
    "## combine categories all categories to 3, call it sentiment, add it as a new column. Sentiment categories are: -1 (for negative), 0 (for neutral), and 1 (positive). \n",
    "### Provide mapping from old to new categories. Explain your reasoning for your mapping. "
   ]
  },
  {
   "cell_type": "code",
   "execution_count": 6,
   "metadata": {},
   "outputs": [],
   "source": [
    "#map 1-5 as negative, 5-8 as neutral, 9-10 as positive\n",
    "mapping = {1: '-1', 2: '-1', 3: '-1', \n",
    "           4: '-1', 5: '-1', 6: '0', 7: '0', 8: '0', 9: '1', 10: '1'}\n",
    "\n",
    "df['sentiment'] = df['Star rating'].map(mapping)\n"
   ]
  },
  {
   "cell_type": "code",
   "execution_count": 7,
   "metadata": {},
   "outputs": [
    {
     "data": {
      "text/plain": [
       "sentiment\n",
       "1     104713\n",
       "-1     64295\n",
       "0      46055\n",
       "Name: count, dtype: int64"
      ]
     },
     "execution_count": 7,
     "metadata": {},
     "output_type": "execute_result"
    }
   ],
   "source": [
    "df['sentiment'].value_counts()"
   ]
  },
  {
   "cell_type": "markdown",
   "metadata": {},
   "source": [
    "# Q3 \n",
    "# Provide any texts cleaning procedure that you do. \n",
    "## Explain why you use them with examples. \n",
    "### Aim to do at least 2. "
   ]
  },
  {
   "cell_type": "code",
   "execution_count": 8,
   "metadata": {},
   "outputs": [
    {
     "data": {
      "text/plain": [
       "3671"
      ]
     },
     "execution_count": 8,
     "metadata": {},
     "output_type": "execute_result"
    }
   ],
   "source": [
    "#first look at how many unique drugs are there\n",
    "df['Drug name'].nunique()"
   ]
  },
  {
   "cell_type": "code",
   "execution_count": 9,
   "metadata": {},
   "outputs": [
    {
     "data": {
      "text/plain": [
       "Drug name            object\n",
       "Condition            object\n",
       "Review               object\n",
       "Star rating           int64\n",
       "Date                 object\n",
       "Useful vote count     int64\n",
       "sentiment            object\n",
       "dtype: object"
      ]
     },
     "execution_count": 9,
     "metadata": {},
     "output_type": "execute_result"
    }
   ],
   "source": [
    "df.dtypes"
   ]
  },
  {
   "cell_type": "code",
   "execution_count": 10,
   "metadata": {},
   "outputs": [],
   "source": [
    "#strip the leading and trailing spaces\n",
    "for columns in df.columns:\n",
    "    if df[columns].dtype == 'object':\n",
    "        df[columns] = df[columns].str.strip()"
   ]
  },
  {
   "cell_type": "code",
   "execution_count": 11,
   "metadata": {},
   "outputs": [],
   "source": [
    "#convert all text to lower case\n",
    "for columns in df.columns:\n",
    "    if df[columns].dtype == 'object':\n",
    "        df[columns] = df[columns].str.lower()\n"
   ]
  },
  {
   "cell_type": "code",
   "execution_count": 12,
   "metadata": {},
   "outputs": [
    {
     "data": {
      "text/plain": [
       "16199"
      ]
     },
     "execution_count": 12,
     "metadata": {},
     "output_type": "execute_result"
    }
   ],
   "source": [
    "#check if @, #, ^, * are present in the column Review\n",
    "df['Review'].str.contains('@|#|\\^|\\*|&').sum()"
   ]
  },
  {
   "cell_type": "code",
   "execution_count": 13,
   "metadata": {},
   "outputs": [
    {
     "data": {
      "text/plain": [
       "4         was diagnosed 8/12/17, began treatment 9/25. i was super pumped. initially had a slight rash and my thumb didn&rsquo;t work, got too stiff to move two times for like a minute.  second day i felt great. high energy. stayed up late. yesterday i felt like butt all day. sore. stomach hurt. especially when i swallowed food or drink. today wasn&rsquo;t a whole lot better. at least yesterday i could eat. i&rsquo;ve taken 7 advil  over quite a long and now i can feel the crappiness coming back on. c...\n",
       "10        i tested positive for hiv in january this year and started treatment with triumeq at the end of february with cd4 &lt; 150 and vl 66,000. on 26 march i had bloodwork again, with cd4 = 415 and vl &lt; 40.  i think the results speak for themselves, this drug is like a nuke. zero side effects except for general malaise and fatigue during the first couple of days - which i however attribute to immune reconstitution syndrome. unless you are hypersensitive to abacavir, i believe there is scarcely ...\n",
       "23                                                                                                                                                                                                                                                                                                                                                                                                                 handable headaches at first but disappeared after a few weeks. went from 33.000 to &lt; 20 within a month.\n",
       "28                                                                                                                                                                   ok...its been 30 days and all is well....yes,  ive had some ups and downs...anxiety attacks, fever,  insomnia, stomach and headaches...but over all i feel great....ive learned that taking my meds earlier than bedtime is better for me and also that the side effects seem to be nonexistent when im well hydrated.......(*drink plenty of water....)\n",
       "43        started on triumeq exactly 1 month. trying to understand that viral meds can have some side effect. this one has not been a pleasant experience. by all accounts i am very active and have a vigorous job that needs me to be alert. this med has worn me down physically and emotionally. i have no energy and bad headaches. my body is achy constantly and the overall feeling of waiting to puke. i had to remove myself from work untilll i can figure if this is indeed the results of medication. i am be...\n",
       "                                                                                                                                                                                                                                                                 ...                                                                                                                                                                                                                                                         \n",
       "214801    i started taking zyprexa over two years ago for intrusive thoughts i was having as a result of obsessive compulsive disorder/depression.  while the zyprexa helped remove intrusive thinking, it added about thirty pounds onto my slender frame, made me severely tired, and took away my sex drive.  in addition to these adverse effects, i was unmotivated/uninterested in many activities that used to give me pleasure. i had a &quot;so what&quot; attitude about life in general.  all because of this m...\n",
       "214829    this is one of three new drugs i was put on recently: zyprexa as a &quot;take when needed&quot; at the hospital along with remeron &quot;as a sleep aid&quot; and risperdal &quot;for psychotic moments&quot;. i was kept on tegretol and vistaril also. i have gained 15 pounds in two weeks. i am not sure if it's the zyprexa or the other two newbies (i know that they also cause weight gain). i do feel better but not good yet. the effect of having constant munchie-madness is annoying, as i know i a...\n",
       "214844    i have been taking zyprexa for about three years. although it seems to help me restrain from the hyper-manic episodes it seems to also hinder my personality. i feel like my spirit is being suppressed and life for me is not as enjoyable. i do however feel it makes it easier for my loved ones as i don't send them through my &quot;energetic&quot; episodes that they say are more tiring for them. i too have gained a lot of extra weight especially around the middle ...i feel starved an hour after ...\n",
       "214854    i took klonopin and paxil for 15 years to treat my anxiety disorder.  i had to detox from the klonopin this past spring.  i got off the klonopin and switched my paxil to lexapro (sex side effect issue).  i am also a recovering alcoholic.  my doctor did not want me on benzo's anymore (says it increased alcohol cravings).  i stayed on lexapro only for 9 months, but my anxiety came back strong on just the lexapro alone.  i almost resorted to taking xanax before i switched doctors. my new doc ga...\n",
       "214866    i have been taking zyprexa for about 5 years. started at 5 mg and am now at 2.5 or 1.25, depending on the day. this is for bipolar. i've tried to go off it (because i felt dulled and had a preoccupation with food) a few different times and had severe depression/anxiety symptoms recur. i also take prozac (20mg) and lamictal (100 mg). i don't think the lamictal does anything but the zyprexa seems to be the &quot;glue&quot; that keeps me together. weight gain was an issue but have recently lost...\n",
       "Name: Review, Length: 16194, dtype: object"
      ]
     },
     "execution_count": 13,
     "metadata": {},
     "output_type": "execute_result"
    }
   ],
   "source": [
    "#print the rows where @, #, ^, * are present\n",
    "pd.set_option('display.max_colwidth', 500)\n",
    "df['Review'][df['Review'].str.contains('@|#|\\^|\\*|&')][:-5]"
   ]
  },
  {
   "cell_type": "code",
   "execution_count": 14,
   "metadata": {},
   "outputs": [],
   "source": [
    "#notice the pattern &quot; is actually a double quote, change it to double quote\n",
    "df['Review'] = df['Review'].str.replace('&quot;', '\"')"
   ]
  },
  {
   "cell_type": "code",
   "execution_count": 15,
   "metadata": {},
   "outputs": [
    {
     "data": {
      "text/plain": [
       "0"
      ]
     },
     "execution_count": 15,
     "metadata": {},
     "output_type": "execute_result"
    }
   ],
   "source": [
    "#see if &amp; is present in the column Review\n",
    "df['Review'].str.contains('&amp;').sum()"
   ]
  },
  {
   "cell_type": "code",
   "execution_count": 16,
   "metadata": {},
   "outputs": [],
   "source": [
    "#&lt is less than, &gt is greater than\n",
    "df['Review'] = df['Review'].str.replace('&lt;', 'less than')\n",
    "df['Review'] = df['Review'].str.replace('&gt;', 'greater than')"
   ]
  },
  {
   "cell_type": "code",
   "execution_count": 17,
   "metadata": {},
   "outputs": [],
   "source": [
    "# &apos; is an apostrophe\n",
    "df['Review'] = df['Review'].str.replace('&apos;', \"'\")"
   ]
  },
  {
   "cell_type": "code",
   "execution_count": 18,
   "metadata": {},
   "outputs": [
    {
     "data": {
      "text/plain": [
       "493"
      ]
     },
     "execution_count": 18,
     "metadata": {},
     "output_type": "execute_result"
    }
   ],
   "source": [
    "df['Review'].str.contains('@').sum()"
   ]
  },
  {
   "cell_type": "code",
   "execution_count": 19,
   "metadata": {},
   "outputs": [
    {
     "data": {
      "text/plain": [
       "134       i agree w/ triple dee. this drug=the worst. it  was suppose to help psychotics. it turned me into a zombie. also turned me into a compulsive shopper, which can be accomplished from the couch i became glued to due to my zombie state. with no motivation, my house was a mess. and, the eating!!! omg. i gained a pound a day. i have clinical depression and massive anxiety. i take 40mg of viibryd. tough tough drug to get on in the beginning, but i stuck to it and it's been a blessing. no sexual or ...\n",
       "1805      suffered with tension migraines, combined with vascular/aura types for 25 yrs. went round and round w/tests, scans, rx's, shots, etc until finally my doctor prescribed anolor 300. hard to find anymore, but fioricet was a perfect replacement (same ingredients). it has helped immensely in my daily life. no missed workdays, or other important things in life since having this for the debilitating headaches. 30 mins after taking one, i am good to go. rarely do i ever need a 2nd dose, if taken at ...\n",
       "2323      i was taking percocet for some 6 years and i felt it was time for a change. i was put in norco 10-325, same level as the percocet i was taking.\\r\\n\\r\\nthe first dose gave me a pleasant high and seem to be effective on the pain.....but....about one hour later, u became horribly nauseated...and vomited up the medication!\\r\\n\\r\\nfuture doses proved the same results. this went on for @ 10 days,even with an empty stomach. i tried dramamine, water pills, bonine, metzlicine, but no matter what, it ...\n",
       "3768      had an erythrodermic flare from usual 20-25% plaque coverage (which is gone) 7 weeks ago. red and flaking from top of my head to tops of my feet. (2nd such flare in 25 yrs). my derm dr prescribed 25 mg soriatane daily; gp prescribed lipitor (20 mgs) for cholesterol/liver. now almost clear on face, legs and torso tho lips are still peeling (apply aquaphor several times/day), some flaking on arms; redness subsiding esp. on face. feet and hands exhibited worst swelling and still somewhat red. f...\n",
       "4463                                                                                                                                                                                                                                                              its been a whole month since my last posting, i recently went to see my doctor.....and guess what, no inflammation whatsoever. but have noticed that i have had lot of sinus congestion. but who cares as long as my rheumatoid arthritis factor is @ zero.\n",
       "                                                                                                                                                                                                                                                                 ...                                                                                                                                                                                                                                                         \n",
       "211371                                                                                                              i had massive amount of fluid retention and i lost 50 pounds in 5 days @ 1 pill a day taken with my lasix , it worked great for me and i'm very happy with the results .... thanks to my new doctor , it got rid of a lot of fluid that was inside of me and i thank god he gave then to me ... that is the only thing that worked for me . now i'm 70 pounds lighter thanks to that lil small pill .....\n",
       "211413                                                                                                                                                                                                                                      for me, there is no side effects. i took this medicine twice in a month. saturday at 6:00 am, 6:30 full glass of water. 8:00am @bathroom stops 930am\\r\\n\\r\\n\\r\\n\\r\\nthe third time i tried to used it does not work. i like the medicine. in puerto rico is not for sale anymore.\n",
       "212649    i was prescribed this for ocd, ptsd, generalized anxiety disorder and severe depression.  first, it didn't do so much, if anything, for my depression.  in fact, i had less energy and experienced apathy on this drug .  that being said, when it came to my ocd, hyper-vigilance and anxiety, this drug was a miracle drug.  it took away 85% of my obsessions and became apathetic to my rituals.  \\r\\n\\r\\n\\r\\n\\r\\nunfortunately, after being on this for 5-6 years (and being above the absolute maximum dos...\n",
       "213641    i've been taking ambien for many years. the first year, i was prescribed 10 mg nightly. i had experienced a \"deep sleep\" and through the entire night. for the first time in my life, i didn't feel exhausted the next day. then my dosage was changed to 5 mg, which was tough! my tolerance to the higher dose made it not work. my dr. gave me something different to substitute while my body adjusted. it's not been 2 years, that i've been taking the 5 mg. i also take adderall xr @ 20 mg daily and 20 ...\n",
       "214608                                                                                                                                                                                                                                                                                                                                                                               smoking @ 16 for 41 years, had in that time 2 dvt's. stopped after first day on zyban, never touched tobacco since.\\r\\nfabulous product.\n",
       "Name: Review, Length: 493, dtype: object"
      ]
     },
     "execution_count": 19,
     "metadata": {},
     "output_type": "execute_result"
    }
   ],
   "source": [
    "df['Review'][df['Review'].str.contains('@')]"
   ]
  },
  {
   "cell_type": "code",
   "execution_count": 20,
   "metadata": {},
   "outputs": [],
   "source": [
    "#change @ to at\n",
    "df['Review'] = df['Review'].str.replace('@', 'at')"
   ]
  },
  {
   "cell_type": "code",
   "execution_count": 21,
   "metadata": {},
   "outputs": [],
   "source": [
    "#remove \\n or \\r\n",
    "df['Review'] = df['Review'].str.replace('\\n', '')\n",
    "df['Review'] = df['Review'].str.replace('\\r', '')"
   ]
  },
  {
   "cell_type": "markdown",
   "metadata": {},
   "source": [
    "# Q4a \n",
    "# Use VADER (NLTK) to perform sentiment analysis on the texts and output to a new column called sentiment_engineer. \n",
    "## From the scores from VADER, provide a score of -1 negative, 0 neutral, 1 positive. \n",
    "### Explain the mapping from VADER score to this mapping. \n",
    "#### Explain your tokenization method and the reason why you choose them."
   ]
  },
  {
   "cell_type": "code",
   "execution_count": 22,
   "metadata": {},
   "outputs": [],
   "source": [
    "#remove any emojis in reviews\n",
    "#non ascii characters\n",
    "df['Review'] = df['Review'].str.replace('[^\\x00-\\x7F]+', '')"
   ]
  },
  {
   "cell_type": "code",
   "execution_count": 23,
   "metadata": {},
   "outputs": [],
   "source": [
    "#remove any extra space in between words and sentences\n",
    "df['Review'] = df['Review'].str.replace(' +', ' ') #regex space + means one or more spaces\n"
   ]
  },
  {
   "cell_type": "code",
   "execution_count": 24,
   "metadata": {},
   "outputs": [],
   "source": [
    "# Create a SentimentIntensityAnalyzer object\n",
    "sia = SentimentIntensityAnalyzer()\n",
    "\n",
    "def get_full_sentiment(review):\n",
    "    return sia.polarity_scores(review)\n",
    "\n",
    "# Apply the function to your DataFrame\n",
    "df['Polarity_Scores'] = df['Review'].apply(get_full_sentiment)\n",
    "\n"
   ]
  },
  {
   "cell_type": "code",
   "execution_count": 30,
   "metadata": {},
   "outputs": [],
   "source": [
    "# Extract each score into a new column\n",
    "df['Positive_Scores'] = df['Polarity_Scores'].apply(lambda x: x['pos'])\n",
    "df['Neutral_Scores'] = df['Polarity_Scores'].apply(lambda x: x['neu'])\n",
    "df['Negative_Scores'] = df['Polarity_Scores'].apply(lambda x: x['neg'])\n",
    "df['Compound_Scores'] = df['Polarity_Scores'].apply(lambda x: x['compound'])"
   ]
  },
  {
   "cell_type": "code",
   "execution_count": 31,
   "metadata": {},
   "outputs": [
    {
     "name": "stdout",
     "output_type": "stream",
     "text": [
      " average positive score is: 0.10991526668929569\n",
      "average neutral score is: 0.7748980624282185\n",
      " average negative score is: 0.11515308072518288\n"
     ]
    }
   ],
   "source": [
    "#average positive, neutral, negative and compound scores\n",
    "print(f\" average positive score is: {df['Positive_Scores'].mean()}\")\n",
    "print(f\"average neutral score is: {df['Neutral_Scores'].mean()}\")\n",
    "print(f\" average negative score is: {df['Negative_Scores'].mean()}\")"
   ]
  },
  {
   "cell_type": "code",
   "execution_count": 32,
   "metadata": {},
   "outputs": [
    {
     "data": {
      "text/plain": [
       "<Axes: xlabel='Compound_Scores', ylabel='Count'>"
      ]
     },
     "execution_count": 32,
     "metadata": {},
     "output_type": "execute_result"
    },
    {
     "data": {
      "image/png": "[encoded data removed]",
      "text/plain": [
       "<Figure size 640x480 with 1 Axes>"
      ]
     },
     "metadata": {},
     "output_type": "display_data"
    }
   ],
   "source": [
    "#plot df['Compooound_Scores']\n",
    "sns.histplot(df['Compound_Scores'])"
   ]
  },
  {
   "cell_type": "code",
   "execution_count": 33,
   "metadata": {},
   "outputs": [],
   "source": [
    "#based on the compound scores, we can classify the reviews as positive, negative or neutral\n",
    "#sentiment\n",
    "'''1: 104713\n",
    "-1: 64295\n",
    "0: 46055\n",
    "'''\n",
    "negative = 64295/(104713+64295+46055)\n",
    "positive = 104713/(104713+64295+46055)\n",
    "neutral = 46055/(104713+64295+46055)\n",
    "\n"
   ]
  },
  {
   "cell_type": "code",
   "execution_count": 34,
   "metadata": {},
   "outputs": [
    {
     "data": {
      "text/plain": [
       "(0.29895890971482775, 0.4868945378795981, 0.21414655240557418)"
      ]
     },
     "execution_count": 34,
     "metadata": {},
     "output_type": "execute_result"
    }
   ],
   "source": [
    "negative, positive, neutral"
   ]
  },
  {
   "cell_type": "code",
   "execution_count": 35,
   "metadata": {},
   "outputs": [],
   "source": [
    "#range of compound score is -1 to 1\n",
    "# I used the same cutoffs(percentage) from the mapping of star rating to sentiment\n",
    "\n",
    "#lets create a new column sentiment based on compound score\n",
    "negative_cutoff = df['Compound_Scores'].quantile(negative)  # Negative cutoff\n",
    "neutral_positive_cutoff = df['Compound_Scores'].quantile(1-positive)  # Neutral to Positive cutoff\n",
    "df['sentiment_engineer'] = df['Compound_Scores'].apply(\n",
    "    lambda x: 1 if x > neutral_positive_cutoff else (-1 if x < negative_cutoff else 0)\n",
    ")\n",
    "\n"
   ]
  },
  {
   "cell_type": "code",
   "execution_count": 36,
   "metadata": {},
   "outputs": [
    {
     "data": {
      "text/plain": [
       "sentiment_engineer\n",
       " 1    101804\n",
       "-1     64221\n",
       " 0     49038\n",
       "Name: count, dtype: int64"
      ]
     },
     "execution_count": 36,
     "metadata": {},
     "output_type": "execute_result"
    }
   ],
   "source": [
    "#check the distribution of sentiment_score\n",
    "df['sentiment_engineer'].value_counts()"
   ]
  },
  {
   "cell_type": "code",
   "execution_count": 37,
   "metadata": {},
   "outputs": [],
   "source": [
    "#change datatype of sentiment_score, sentiment to int\n",
    "df['sentiment_engineer'] = df['sentiment_engineer'].astype(int)\n",
    "df['sentiment'] = df['sentiment'].astype(int)"
   ]
  },
  {
   "cell_type": "markdown",
   "metadata": {},
   "source": [
    "# Q5"
   ]
  },
  {
   "cell_type": "code",
   "execution_count": 38,
   "metadata": {},
   "outputs": [
    {
     "name": "stdout",
     "output_type": "stream",
     "text": [
      "              precision    recall  f1-score   support\n",
      "\n",
      "          -1       0.49      0.49      0.49     64295\n",
      "           0       0.22      0.23      0.23     46055\n",
      "           1       0.62      0.60      0.61    104713\n",
      "\n",
      "    accuracy                           0.49    215063\n",
      "   macro avg       0.44      0.44      0.44    215063\n",
      "weighted avg       0.49      0.49      0.49    215063\n",
      "\n"
     ]
    }
   ],
   "source": [
    "#do a classification report on sentiment_score vs sentiment\n",
    "from sklearn.metrics import classification_report\n",
    "print(classification_report(df['sentiment'], df['sentiment_engineer']))"
   ]
  },
  {
   "cell_type": "code",
   "execution_count": 39,
   "metadata": {},
   "outputs": [
    {
     "data": {
      "text/plain": [
       "Index(['Drug name', 'Condition', 'Review', 'Star rating', 'Date',\n",
       "       'Useful vote count', 'sentiment', 'Polarity_Scores', 'Positive_Scores',\n",
       "       'Neutral_Scores', 'Negative_Scores', 'Compound_Scores',\n",
       "       'sentiment_engineer'],\n",
       "      dtype='object')"
      ]
     },
     "execution_count": 39,
     "metadata": {},
     "output_type": "execute_result"
    }
   ],
   "source": [
    "df.columns"
   ]
  },
  {
   "cell_type": "code",
   "execution_count": 40,
   "metadata": {},
   "outputs": [],
   "source": [
    "df.drop(['Polarity_Scores', 'Positive_Scores', 'Neutral_Scores', 'Negative_Scores', 'Compound_Scores'], axis=1, inplace=True)"
   ]
  },
  {
   "cell_type": "markdown",
   "metadata": {},
   "source": [
    "# Q6"
   ]
  },
  {
   "cell_type": "code",
   "execution_count": 41,
   "metadata": {},
   "outputs": [],
   "source": [
    "#drop rows where sentiment is 0\n",
    "df = df[df['sentiment'] != 0]"
   ]
  },
  {
   "cell_type": "code",
   "execution_count": 42,
   "metadata": {},
   "outputs": [],
   "source": [
    "df_svm = df[['Review', 'sentiment']]"
   ]
  },
  {
   "cell_type": "code",
   "execution_count": 43,
   "metadata": {},
   "outputs": [],
   "source": [
    "#import\n",
    "from sklearn.model_selection import train_test_split\n",
    "from sklearn.feature_extraction.text import TfidfVectorizer\n",
    "from sklearn.tree import DecisionTreeClassifier\n",
    "from sklearn.metrics import classification_report, accuracy_score"
   ]
  },
  {
   "cell_type": "markdown",
   "metadata": {},
   "source": [
    "# Q7"
   ]
  },
  {
   "cell_type": "code",
   "execution_count": 44,
   "metadata": {},
   "outputs": [],
   "source": [
    "# Split the data into train+test (90%) and inference (10%)\n",
    "train_test_data, inference_data = train_test_split(df_svm, test_size=0.1, random_state=42)\n",
    "\n",
    "# Split the remaining data into train (77.78% of 90% ≈ 70% of the whole) and test (22.22% of 90% ≈ 20% of the whole)\n",
    "train_data, test_data = train_test_split(train_test_data, test_size=0.2, random_state=42)"
   ]
  },
  {
   "cell_type": "markdown",
   "metadata": {},
   "source": [
    "# Q8"
   ]
  },
  {
   "cell_type": "code",
   "execution_count": 46,
   "metadata": {},
   "outputs": [],
   "source": [
    "\n",
    "# Vectorize the data\n",
    "vectorizer = TfidfVectorizer(ngram_range=(1, 2))\n",
    "\n",
    "X_train = vectorizer.fit_transform(train_data['Review'])\n",
    "X_test = vectorizer.transform(test_data['Review'])\n",
    "X_inference = vectorizer.transform(inference_data['Review'])\n",
    "\n",
    "y_train = train_data['sentiment']\n",
    "y_test = test_data['sentiment']\n",
    "y_inference = inference_data['sentiment']\n",
    "\n",
    "\n"
   ]
  },
  {
   "cell_type": "code",
   "execution_count": 160,
   "metadata": {},
   "outputs": [],
   "source": [
    "#from sklearn.svm import SVC\n",
    "\n",
    "# Train the SVM model\n",
    "#svm_model = SVC(kernel='linear')\n",
    "#svm_model.fit(X_train, y_train)\n",
    "\n",
    "#take too long to train, switch to decision tree"
   ]
  },
  {
   "cell_type": "code",
   "execution_count": 47,
   "metadata": {},
   "outputs": [
    {
     "data": {
      "text/html": [
       "<style>#sk-container-id-1 {\n",
       "  /* Definition of color scheme common for light and dark mode */\n",
       "  --sklearn-color-text: black;\n",
       "  --sklearn-color-line: gray;\n",
       "  /* Definition of color scheme for unfitted estimators */\n",
       "  --sklearn-color-unfitted-level-0: #fff5e6;\n",
       "  --sklearn-color-unfitted-level-1: #f6e4d2;\n",
       "  --sklearn-color-unfitted-level-2: #ffe0b3;\n",
       "  --sklearn-color-unfitted-level-3: chocolate;\n",
       "  /* Definition of color scheme for fitted estimators */\n",
       "  --sklearn-color-fitted-level-0: #f0f8ff;\n",
       "  --sklearn-color-fitted-level-1: #d4ebff;\n",
       "  --sklearn-color-fitted-level-2: #b3dbfd;\n",
       "  --sklearn-color-fitted-level-3: cornflowerblue;\n",
       "\n",
       "  /* Specific color for light theme */\n",
       "  --sklearn-color-text-on-default-background: var(--sg-text-color, var(--theme-code-foreground, var(--jp-content-font-color1, black)));\n",
       "  --sklearn-color-background: var(--sg-background-color, var(--theme-background, var(--jp-layout-color0, white)));\n",
       "  --sklearn-color-border-box: var(--sg-text-color, var(--theme-code-foreground, var(--jp-content-font-color1, black)));\n",
       "  --sklearn-color-icon: #696969;\n",
       "\n",
       "  @media (prefers-color-scheme: dark) {\n",
       "    /* Redefinition of color scheme for dark theme */\n",
       "    --sklearn-color-text-on-default-background: var(--sg-text-color, var(--theme-code-foreground, var(--jp-content-font-color1, white)));\n",
       "    --sklearn-color-background: var(--sg-background-color, var(--theme-background, var(--jp-layout-color0, #111)));\n",
       "    --sklearn-color-border-box: var(--sg-text-color, var(--theme-code-foreground, var(--jp-content-font-color1, white)));\n",
       "    --sklearn-color-icon: #878787;\n",
       "  }\n",
       "}\n",
       "\n",
       "#sk-container-id-1 {\n",
       "  color: var(--sklearn-color-text);\n",
       "}\n",
       "\n",
       "#sk-container-id-1 pre {\n",
       "  padding: 0;\n",
       "}\n",
       "\n",
       "#sk-container-id-1 input.sk-hidden--visually {\n",
       "  border: 0;\n",
       "  clip: rect(1px 1px 1px 1px);\n",
       "  clip: rect(1px, 1px, 1px, 1px);\n",
       "  height: 1px;\n",
       "  margin: -1px;\n",
       "  overflow: hidden;\n",
       "  padding: 0;\n",
       "  position: absolute;\n",
       "  width: 1px;\n",
       "}\n",
       "\n",
       "#sk-container-id-1 div.sk-dashed-wrapped {\n",
       "  border: 1px dashed var(--sklearn-color-line);\n",
       "  margin: 0 0.4em 0.5em 0.4em;\n",
       "  box-sizing: border-box;\n",
       "  padding-bottom: 0.4em;\n",
       "  background-color: var(--sklearn-color-background);\n",
       "}\n",
       "\n",
       "#sk-container-id-1 div.sk-container {\n",
       "  /* jupyter's `normalize.less` sets `[hidden] { display: none; }`\n",
       "     but bootstrap.min.css set `[hidden] { display: none !important; }`\n",
       "     so we also need the `!important` here to be able to override the\n",
       "     default hidden behavior on the sphinx rendered scikit-learn.org.\n",
       "     See: https://github.com/scikit-learn/scikit-learn/issues/21755 */\n",
       "  display: inline-block !important;\n",
       "  position: relative;\n",
       "}\n",
       "\n",
       "#sk-container-id-1 div.sk-text-repr-fallback {\n",
       "  display: none;\n",
       "}\n",
       "\n",
       "div.sk-parallel-item,\n",
       "div.sk-serial,\n",
       "div.sk-item {\n",
       "  /* draw centered vertical line to link estimators */\n",
       "  background-image: linear-gradient(var(--sklearn-color-text-on-default-background), var(--sklearn-color-text-on-default-background));\n",
       "  background-size: 2px 100%;\n",
       "  background-repeat: no-repeat;\n",
       "  background-position: center center;\n",
       "}\n",
       "\n",
       "/* Parallel-specific style estimator block */\n",
       "\n",
       "#sk-container-id-1 div.sk-parallel-item::after {\n",
       "  content: \"\";\n",
       "  width: 100%;\n",
       "  border-bottom: 2px solid var(--sklearn-color-text-on-default-background);\n",
       "  flex-grow: 1;\n",
       "}\n",
       "\n",
       "#sk-container-id-1 div.sk-parallel {\n",
       "  display: flex;\n",
       "  align-items: stretch;\n",
       "  justify-content: center;\n",
       "  background-color: var(--sklearn-color-background);\n",
       "  position: relative;\n",
       "}\n",
       "\n",
       "#sk-container-id-1 div.sk-parallel-item {\n",
       "  display: flex;\n",
       "  flex-direction: column;\n",
       "}\n",
       "\n",
       "#sk-container-id-1 div.sk-parallel-item:first-child::after {\n",
       "  align-self: flex-end;\n",
       "  width: 50%;\n",
       "}\n",
       "\n",
       "#sk-container-id-1 div.sk-parallel-item:last-child::after {\n",
       "  align-self: flex-start;\n",
       "  width: 50%;\n",
       "}\n",
       "\n",
       "#sk-container-id-1 div.sk-parallel-item:only-child::after {\n",
       "  width: 0;\n",
       "}\n",
       "\n",
       "/* Serial-specific style estimator block */\n",
       "\n",
       "#sk-container-id-1 div.sk-serial {\n",
       "  display: flex;\n",
       "  flex-direction: column;\n",
       "  align-items: center;\n",
       "  background-color: var(--sklearn-color-background);\n",
       "  padding-right: 1em;\n",
       "  padding-left: 1em;\n",
       "}\n",
       "\n",
       "\n",
       "/* Toggleable style: style used for estimator/Pipeline/ColumnTransformer box that is\n",
       "clickable and can be expanded/collapsed.\n",
       "- Pipeline and ColumnTransformer use this feature and define the default style\n",
       "- Estimators will overwrite some part of the style using the `sk-estimator` class\n",
       "*/\n",
       "\n",
       "/* Pipeline and ColumnTransformer style (default) */\n",
       "\n",
       "#sk-container-id-1 div.sk-toggleable {\n",
       "  /* Default theme specific background. It is overwritten whether we have a\n",
       "  specific estimator or a Pipeline/ColumnTransformer */\n",
       "  background-color: var(--sklearn-color-background);\n",
       "}\n",
       "\n",
       "/* Toggleable label */\n",
       "#sk-container-id-1 label.sk-toggleable__label {\n",
       "  cursor: pointer;\n",
       "  display: block;\n",
       "  width: 100%;\n",
       "  margin-bottom: 0;\n",
       "  padding: 0.5em;\n",
       "  box-sizing: border-box;\n",
       "  text-align: center;\n",
       "}\n",
       "\n",
       "#sk-container-id-1 label.sk-toggleable__label-arrow:before {\n",
       "  /* Arrow on the left of the label */\n",
       "  content: \"▸\";\n",
       "  float: left;\n",
       "  margin-right: 0.25em;\n",
       "  color: var(--sklearn-color-icon);\n",
       "}\n",
       "\n",
       "#sk-container-id-1 label.sk-toggleable__label-arrow:hover:before {\n",
       "  color: var(--sklearn-color-text);\n",
       "}\n",
       "\n",
       "/* Toggleable content - dropdown */\n",
       "\n",
       "#sk-container-id-1 div.sk-toggleable__content {\n",
       "  max-height: 0;\n",
       "  max-width: 0;\n",
       "  overflow: hidden;\n",
       "  text-align: left;\n",
       "  /* unfitted */\n",
       "  background-color: var(--sklearn-color-unfitted-level-0);\n",
       "}\n",
       "\n",
       "#sk-container-id-1 div.sk-toggleable__content.fitted {\n",
       "  /* fitted */\n",
       "  background-color: var(--sklearn-color-fitted-level-0);\n",
       "}\n",
       "\n",
       "#sk-container-id-1 div.sk-toggleable__content pre {\n",
       "  margin: 0.2em;\n",
       "  border-radius: 0.25em;\n",
       "  color: var(--sklearn-color-text);\n",
       "  /* unfitted */\n",
       "  background-color: var(--sklearn-color-unfitted-level-0);\n",
       "}\n",
       "\n",
       "#sk-container-id-1 div.sk-toggleable__content.fitted pre {\n",
       "  /* unfitted */\n",
       "  background-color: var(--sklearn-color-fitted-level-0);\n",
       "}\n",
       "\n",
       "#sk-container-id-1 input.sk-toggleable__control:checked~div.sk-toggleable__content {\n",
       "  /* Expand drop-down */\n",
       "  max-height: 200px;\n",
       "  max-width: 100%;\n",
       "  overflow: auto;\n",
       "}\n",
       "\n",
       "#sk-container-id-1 input.sk-toggleable__control:checked~label.sk-toggleable__label-arrow:before {\n",
       "  content: \"▾\";\n",
       "}\n",
       "\n",
       "/* Pipeline/ColumnTransformer-specific style */\n",
       "\n",
       "#sk-container-id-1 div.sk-label input.sk-toggleable__control:checked~label.sk-toggleable__label {\n",
       "  color: var(--sklearn-color-text);\n",
       "  background-color: var(--sklearn-color-unfitted-level-2);\n",
       "}\n",
       "\n",
       "#sk-container-id-1 div.sk-label.fitted input.sk-toggleable__control:checked~label.sk-toggleable__label {\n",
       "  background-color: var(--sklearn-color-fitted-level-2);\n",
       "}\n",
       "\n",
       "/* Estimator-specific style */\n",
       "\n",
       "/* Colorize estimator box */\n",
       "#sk-container-id-1 div.sk-estimator input.sk-toggleable__control:checked~label.sk-toggleable__label {\n",
       "  /* unfitted */\n",
       "  background-color: var(--sklearn-color-unfitted-level-2);\n",
       "}\n",
       "\n",
       "#sk-container-id-1 div.sk-estimator.fitted input.sk-toggleable__control:checked~label.sk-toggleable__label {\n",
       "  /* fitted */\n",
       "  background-color: var(--sklearn-color-fitted-level-2);\n",
       "}\n",
       "\n",
       "#sk-container-id-1 div.sk-label label.sk-toggleable__label,\n",
       "#sk-container-id-1 div.sk-label label {\n",
       "  /* The background is the default theme color */\n",
       "  color: var(--sklearn-color-text-on-default-background);\n",
       "}\n",
       "\n",
       "/* On hover, darken the color of the background */\n",
       "#sk-container-id-1 div.sk-label:hover label.sk-toggleable__label {\n",
       "  color: var(--sklearn-color-text);\n",
       "  background-color: var(--sklearn-color-unfitted-level-2);\n",
       "}\n",
       "\n",
       "/* Label box, darken color on hover, fitted */\n",
       "#sk-container-id-1 div.sk-label.fitted:hover label.sk-toggleable__label.fitted {\n",
       "  color: var(--sklearn-color-text);\n",
       "  background-color: var(--sklearn-color-fitted-level-2);\n",
       "}\n",
       "\n",
       "/* Estimator label */\n",
       "\n",
       "#sk-container-id-1 div.sk-label label {\n",
       "  font-family: monospace;\n",
       "  font-weight: bold;\n",
       "  display: inline-block;\n",
       "  line-height: 1.2em;\n",
       "}\n",
       "\n",
       "#sk-container-id-1 div.sk-label-container {\n",
       "  text-align: center;\n",
       "}\n",
       "\n",
       "/* Estimator-specific */\n",
       "#sk-container-id-1 div.sk-estimator {\n",
       "  font-family: monospace;\n",
       "  border: 1px dotted var(--sklearn-color-border-box);\n",
       "  border-radius: 0.25em;\n",
       "  box-sizing: border-box;\n",
       "  margin-bottom: 0.5em;\n",
       "  /* unfitted */\n",
       "  background-color: var(--sklearn-color-unfitted-level-0);\n",
       "}\n",
       "\n",
       "#sk-container-id-1 div.sk-estimator.fitted {\n",
       "  /* fitted */\n",
       "  background-color: var(--sklearn-color-fitted-level-0);\n",
       "}\n",
       "\n",
       "/* on hover */\n",
       "#sk-container-id-1 div.sk-estimator:hover {\n",
       "  /* unfitted */\n",
       "  background-color: var(--sklearn-color-unfitted-level-2);\n",
       "}\n",
       "\n",
       "#sk-container-id-1 div.sk-estimator.fitted:hover {\n",
       "  /* fitted */\n",
       "  background-color: var(--sklearn-color-fitted-level-2);\n",
       "}\n",
       "\n",
       "/* Specification for estimator info (e.g. \"i\" and \"?\") */\n",
       "\n",
       "/* Common style for \"i\" and \"?\" */\n",
       "\n",
       ".sk-estimator-doc-link,\n",
       "a:link.sk-estimator-doc-link,\n",
       "a:visited.sk-estimator-doc-link {\n",
       "  float: right;\n",
       "  font-size: smaller;\n",
       "  line-height: 1em;\n",
       "  font-family: monospace;\n",
       "  background-color: var(--sklearn-color-background);\n",
       "  border-radius: 1em;\n",
       "  height: 1em;\n",
       "  width: 1em;\n",
       "  text-decoration: none !important;\n",
       "  margin-left: 1ex;\n",
       "  /* unfitted */\n",
       "  border: var(--sklearn-color-unfitted-level-1) 1pt solid;\n",
       "  color: var(--sklearn-color-unfitted-level-1);\n",
       "}\n",
       "\n",
       ".sk-estimator-doc-link.fitted,\n",
       "a:link.sk-estimator-doc-link.fitted,\n",
       "a:visited.sk-estimator-doc-link.fitted {\n",
       "  /* fitted */\n",
       "  border: var(--sklearn-color-fitted-level-1) 1pt solid;\n",
       "  color: var(--sklearn-color-fitted-level-1);\n",
       "}\n",
       "\n",
       "/* On hover */\n",
       "div.sk-estimator:hover .sk-estimator-doc-link:hover,\n",
       ".sk-estimator-doc-link:hover,\n",
       "div.sk-label-container:hover .sk-estimator-doc-link:hover,\n",
       ".sk-estimator-doc-link:hover {\n",
       "  /* unfitted */\n",
       "  background-color: var(--sklearn-color-unfitted-level-3);\n",
       "  color: var(--sklearn-color-background);\n",
       "  text-decoration: none;\n",
       "}\n",
       "\n",
       "div.sk-estimator.fitted:hover .sk-estimator-doc-link.fitted:hover,\n",
       ".sk-estimator-doc-link.fitted:hover,\n",
       "div.sk-label-container:hover .sk-estimator-doc-link.fitted:hover,\n",
       ".sk-estimator-doc-link.fitted:hover {\n",
       "  /* fitted */\n",
       "  background-color: var(--sklearn-color-fitted-level-3);\n",
       "  color: var(--sklearn-color-background);\n",
       "  text-decoration: none;\n",
       "}\n",
       "\n",
       "/* Span, style for the box shown on hovering the info icon */\n",
       ".sk-estimator-doc-link span {\n",
       "  display: none;\n",
       "  z-index: 9999;\n",
       "  position: relative;\n",
       "  font-weight: normal;\n",
       "  right: .2ex;\n",
       "  padding: .5ex;\n",
       "  margin: .5ex;\n",
       "  width: min-content;\n",
       "  min-width: 20ex;\n",
       "  max-width: 50ex;\n",
       "  color: var(--sklearn-color-text);\n",
       "  box-shadow: 2pt 2pt 4pt #999;\n",
       "  /* unfitted */\n",
       "  background: var(--sklearn-color-unfitted-level-0);\n",
       "  border: .5pt solid var(--sklearn-color-unfitted-level-3);\n",
       "}\n",
       "\n",
       ".sk-estimator-doc-link.fitted span {\n",
       "  /* fitted */\n",
       "  background: var(--sklearn-color-fitted-level-0);\n",
       "  border: var(--sklearn-color-fitted-level-3);\n",
       "}\n",
       "\n",
       ".sk-estimator-doc-link:hover span {\n",
       "  display: block;\n",
       "}\n",
       "\n",
       "/* \"?\"-specific style due to the `<a>` HTML tag */\n",
       "\n",
       "#sk-container-id-1 a.estimator_doc_link {\n",
       "  float: right;\n",
       "  font-size: 1rem;\n",
       "  line-height: 1em;\n",
       "  font-family: monospace;\n",
       "  background-color: var(--sklearn-color-background);\n",
       "  border-radius: 1rem;\n",
       "  height: 1rem;\n",
       "  width: 1rem;\n",
       "  text-decoration: none;\n",
       "  /* unfitted */\n",
       "  color: var(--sklearn-color-unfitted-level-1);\n",
       "  border: var(--sklearn-color-unfitted-level-1) 1pt solid;\n",
       "}\n",
       "\n",
       "#sk-container-id-1 a.estimator_doc_link.fitted {\n",
       "  /* fitted */\n",
       "  border: var(--sklearn-color-fitted-level-1) 1pt solid;\n",
       "  color: var(--sklearn-color-fitted-level-1);\n",
       "}\n",
       "\n",
       "/* On hover */\n",
       "#sk-container-id-1 a.estimator_doc_link:hover {\n",
       "  /* unfitted */\n",
       "  background-color: var(--sklearn-color-unfitted-level-3);\n",
       "  color: var(--sklearn-color-background);\n",
       "  text-decoration: none;\n",
       "}\n",
       "\n",
       "#sk-container-id-1 a.estimator_doc_link.fitted:hover {\n",
       "  /* fitted */\n",
       "  background-color: var(--sklearn-color-fitted-level-3);\n",
       "}\n",
       "</style><div id=\"sk-container-id-1\" class=\"sk-top-container\"><div class=\"sk-text-repr-fallback\"><pre>DecisionTreeClassifier(random_state=42)</pre><b>In a Jupyter environment, please rerun this cell to show the HTML representation or trust the notebook. <br />On GitHub, the HTML representation is unable to render, please try loading this page with nbviewer.org.</b></div><div class=\"sk-container\" hidden><div class=\"sk-item\"><div class=\"sk-estimator fitted sk-toggleable\"><input class=\"sk-toggleable__control sk-hidden--visually\" id=\"sk-estimator-id-1\" type=\"checkbox\" checked><label for=\"sk-estimator-id-1\" class=\"sk-toggleable__label fitted sk-toggleable__label-arrow fitted\">&nbsp;&nbsp;DecisionTreeClassifier<a class=\"sk-estimator-doc-link fitted\" rel=\"noreferrer\" target=\"_blank\" href=\"https://scikit-learn.org/1.4/modules/generated/sklearn.tree.DecisionTreeClassifier.html\">?<span>Documentation for DecisionTreeClassifier</span></a><span class=\"sk-estimator-doc-link fitted\">i<span>Fitted</span></span></label><div class=\"sk-toggleable__content fitted\"><pre>DecisionTreeClassifier(random_state=42)</pre></div> </div></div></div></div>"
      ],
      "text/plain": [
       "DecisionTreeClassifier(random_state=42)"
      ]
     },
     "execution_count": 47,
     "metadata": {},
     "output_type": "execute_result"
    }
   ],
   "source": [
    "# Initialize the Decision Tree Classifier\n",
    "tree_model = DecisionTreeClassifier(random_state=42)\n",
    "\n",
    "# Train the model\n",
    "tree_model.fit(X_train, y_train)\n"
   ]
  },
  {
   "cell_type": "code",
   "execution_count": 70,
   "metadata": {},
   "outputs": [
    {
     "name": "stdout",
     "output_type": "stream",
     "text": [
      "              precision    recall  f1-score   support\n",
      "\n",
      "          -1       0.83      0.85      0.84     11504\n",
      "           1       0.91      0.90      0.90     18918\n",
      "\n",
      "    accuracy                           0.88     30422\n",
      "   macro avg       0.87      0.88      0.87     30422\n",
      "weighted avg       0.88      0.88      0.88     30422\n",
      "\n"
     ]
    }
   ],
   "source": [
    "#classification report for Decision Tree Classifier\n",
    "y_pred = tree_model.predict(X_test)\n",
    "print(classification_report(y_test, y_pred))\n"
   ]
  },
  {
   "cell_type": "markdown",
   "metadata": {},
   "source": [
    "# Q9"
   ]
  },
  {
   "cell_type": "code",
   "execution_count": 49,
   "metadata": {},
   "outputs": [
    {
     "data": {
      "text/plain": [
       "Index(['Drug name', 'Condition', 'Review', 'Star rating', 'Date',\n",
       "       'Useful vote count', 'sentiment', 'sentiment_engineer'],\n",
       "      dtype='object')"
      ]
     },
     "execution_count": 49,
     "metadata": {},
     "output_type": "execute_result"
    }
   ],
   "source": [
    "df.columns"
   ]
  },
  {
   "cell_type": "code",
   "execution_count": 74,
   "metadata": {},
   "outputs": [],
   "source": [
    "df_distillbert = df[df['Drug name'] == \"skyla\"][['Review', 'sentiment']]"
   ]
  },
  {
   "cell_type": "code",
   "execution_count": 79,
   "metadata": {},
   "outputs": [],
   "source": [
    "#import\n",
    "import torch\n",
    "from transformers import DistilBertTokenizer, DistilBertForSequenceClassification\n",
    "from sklearn.model_selection import train_test_split\n",
    "from sklearn.metrics import classification_report\n",
    "import torch.optim as optim\n",
    "import warnings\n",
    "warnings.filterwarnings('ignore')\n",
    "#split the dataset\n",
    "\n",
    "X_trainb, X_testb, y_trainb, y_testb = train_test_split(df_distillbert['Review'], df_distillbert['sentiment'], test_size=0.3, random_state=42)"
   ]
  },
  {
   "cell_type": "code",
   "execution_count": 80,
   "metadata": {},
   "outputs": [],
   "source": [
    "#tokenize the data\n",
    "tokenizer = DistilBertTokenizer.from_pretrained('distilbert-base-uncased')\n",
    "def tokenize_data(reviews, sentiments, tokenizer):\n",
    "    tokenized = tokenizer(reviews.tolist(), padding=True, truncation=True, max_length=512, return_tensors='pt')\n",
    "    tokenized['labels'] = torch.tensor(sentiments.tolist())\n",
    "    return tokenized\n",
    "\n",
    "train_tokenized = tokenize_data(X_trainb, y_trainb, tokenizer)\n",
    "test_tokenized = tokenize_data(X_testb, y_testb, tokenizer)\n"
   ]
  },
  {
   "cell_type": "code",
   "execution_count": 81,
   "metadata": {},
   "outputs": [
    {
     "name": "stderr",
     "output_type": "stream",
     "text": [
      "Some weights of DistilBertForSequenceClassification were not initialized from the model checkpoint at distilbert-base-uncased and are newly initialized: ['classifier.bias', 'classifier.weight', 'pre_classifier.bias', 'pre_classifier.weight']\n",
      "You should probably TRAIN this model on a down-stream task to be able to use it for predictions and inference.\n"
     ]
    },
    {
     "data": {
      "text/plain": [
       "DistilBertForSequenceClassification(\n",
       "  (distilbert): DistilBertModel(\n",
       "    (embeddings): Embeddings(\n",
       "      (word_embeddings): Embedding(30522, 768, padding_idx=0)\n",
       "      (position_embeddings): Embedding(512, 768)\n",
       "      (LayerNorm): LayerNorm((768,), eps=1e-12, elementwise_affine=True)\n",
       "      (dropout): Dropout(p=0.1, inplace=False)\n",
       "    )\n",
       "    (transformer): Transformer(\n",
       "      (layer): ModuleList(\n",
       "        (0-5): 6 x TransformerBlock(\n",
       "          (attention): MultiHeadSelfAttention(\n",
       "            (dropout): Dropout(p=0.1, inplace=False)\n",
       "            (q_lin): Linear(in_features=768, out_features=768, bias=True)\n",
       "            (k_lin): Linear(in_features=768, out_features=768, bias=True)\n",
       "            (v_lin): Linear(in_features=768, out_features=768, bias=True)\n",
       "            (out_lin): Linear(in_features=768, out_features=768, bias=True)\n",
       "          )\n",
       "          (sa_layer_norm): LayerNorm((768,), eps=1e-12, elementwise_affine=True)\n",
       "          (ffn): FFN(\n",
       "            (dropout): Dropout(p=0.1, inplace=False)\n",
       "            (lin1): Linear(in_features=768, out_features=3072, bias=True)\n",
       "            (lin2): Linear(in_features=3072, out_features=768, bias=True)\n",
       "            (activation): GELUActivation()\n",
       "          )\n",
       "          (output_layer_norm): LayerNorm((768,), eps=1e-12, elementwise_affine=True)\n",
       "        )\n",
       "      )\n",
       "    )\n",
       "  )\n",
       "  (pre_classifier): Linear(in_features=768, out_features=768, bias=True)\n",
       "  (classifier): Linear(in_features=768, out_features=2, bias=True)\n",
       "  (dropout): Dropout(p=0.2, inplace=False)\n",
       ")"
      ]
     },
     "execution_count": 81,
     "metadata": {},
     "output_type": "execute_result"
    }
   ],
   "source": [
    "#initialize the model\n",
    "model = DistilBertForSequenceClassification.from_pretrained('distilbert-base-uncased', num_labels=2)\n",
    "loss_function = torch.nn.CrossEntropyLoss()\n",
    "optimizer = optim.Adam(model.parameters(), lr=1e-5)\n",
    "\n",
    "device = torch.device(\"cuda\" if torch.cuda.is_available() else \"cpu\")\n",
    "model.to(device)\n"
   ]
  },
  {
   "cell_type": "code",
   "execution_count": 83,
   "metadata": {},
   "outputs": [],
   "source": [
    "def custom_loss(outputs, labels):\n",
    "    # Adjust labels within the loss function: -1 -> 0, 1 -> 1\n",
    "    adjusted_labels = (labels + 1) // 2\n",
    "    return torch.nn.CrossEntropyLoss()(outputs, adjusted_labels)\n",
    "\n",
    "def train_model(model, data, optimizer, device, epochs=3):\n",
    "    model.train()\n",
    "    for epoch in range(epochs):\n",
    "        total_loss = 0\n",
    "        for i in range(data['input_ids'].size(0)):\n",
    "            inputs = {k: v[i].unsqueeze(0).to(device) for k, v in data.items() if k != 'labels'}\n",
    "            labels = data['labels'][i].unsqueeze(0).to(device)\n",
    "            \n",
    "            optimizer.zero_grad()\n",
    "            outputs = model(**inputs)\n",
    "            loss = custom_loss(outputs.logits, labels)\n",
    "            loss.backward()\n",
    "            optimizer.step()\n",
    "            \n",
    "            total_loss += loss.item()\n",
    "        \n",
    "        print(f'Epoch {epoch+1}/{epochs}, Loss: {total_loss/data[\"input_ids\"].size(0):.4f}')"
   ]
  },
  {
   "cell_type": "code",
   "execution_count": 94,
   "metadata": {},
   "outputs": [],
   "source": [
    "def evaluate_model(model, data, device):\n",
    "    model.eval()\n",
    "    predictions, true_vals = [], []\n",
    "    with torch.no_grad():\n",
    "        for i in range(data['input_ids'].size(0)):\n",
    "            inputs = {k: v[i].unsqueeze(0).to(device) for k, v in data.items() if k != 'labels'}\n",
    "            labels = data['labels'][i].unsqueeze(0).to(device)\n",
    "\n",
    "            outputs = model(**inputs)\n",
    "            _, preds = torch.max(outputs.logits, dim=1)\n",
    "\n",
    "            # Extend predictions directly\n",
    "            predictions.extend(preds.tolist())\n",
    "\n",
    "            # Correctly handle labels as list\n",
    "            adjusted_labels = ((labels + 1) // 2).squeeze().tolist()\n",
    "            # Ensure adjusted_labels is a list even if it's a single integer\n",
    "            if isinstance(adjusted_labels, int):\n",
    "                adjusted_labels = [adjusted_labels]  # Convert single integer to list\n",
    "            true_vals.extend(adjusted_labels)\n",
    "\n",
    "    print(\"Classification Report:\")\n",
    "    print(classification_report(true_vals, predictions))\n",
    "    accuracy = sum(1 for true, pred in zip(true_vals, predictions) if true == pred) / len(true_vals)\n",
    "    print(f\"Accuracy: {accuracy:.4f}\")\n",
    "\n"
   ]
  },
  {
   "cell_type": "code",
   "execution_count": 93,
   "metadata": {},
   "outputs": [
    {
     "name": "stdout",
     "output_type": "stream",
     "text": [
      "Epoch 1/3, Loss: 0.0450\n",
      "Epoch 2/3, Loss: 0.0364\n",
      "Epoch 3/3, Loss: 0.0165\n"
     ]
    }
   ],
   "source": [
    "#i did train the model twice by accident, so in fact this is Epoch 6/6\n",
    "#i muted next line so that I won't accidently run it again\n",
    "#train_model(model, train_tokenized, optimizer, device, epochs=3)"
   ]
  },
  {
   "cell_type": "code",
   "execution_count": 95,
   "metadata": {},
   "outputs": [
    {
     "name": "stdout",
     "output_type": "stream",
     "text": [
      "Classification Report:\n",
      "              precision    recall  f1-score   support\n",
      "\n",
      "           0       0.85      0.73      0.78        84\n",
      "           1       0.87      0.93      0.90       159\n",
      "\n",
      "    accuracy                           0.86       243\n",
      "   macro avg       0.86      0.83      0.84       243\n",
      "weighted avg       0.86      0.86      0.86       243\n",
      "\n",
      "Accuracy: 0.8601\n"
     ]
    }
   ],
   "source": [
    "evaluate_model(model, test_tokenized, device)"
   ]
  },
  {
   "cell_type": "markdown",
   "metadata": {},
   "source": [
    "# Q10"
   ]
  },
  {
   "cell_type": "code",
   "execution_count": 72,
   "metadata": {},
   "outputs": [
    {
     "name": "stdout",
     "output_type": "stream",
     "text": [
      "              precision    recall  f1-score   support\n",
      "\n",
      "          -1       0.84      0.84      0.84      6452\n",
      "           1       0.90      0.90      0.90     10449\n",
      "\n",
      "    accuracy                           0.88     16901\n",
      "   macro avg       0.87      0.87      0.87     16901\n",
      "weighted avg       0.88      0.88      0.88     16901\n",
      "\n"
     ]
    }
   ],
   "source": [
    "#use inference data on decision tree\n",
    "#classification report for Decision Tree Classifier with inference data\n",
    "y_pred_inference = tree_model.predict(X_inference)\n",
    "print(classification_report(y_inference, y_pred_inference))"
   ]
  },
  {
   "cell_type": "code",
   "execution_count": 96,
   "metadata": {},
   "outputs": [],
   "source": [
    "#save inference data to csv\n",
    "inference_data.to_csv('./inference_data.csv', index=False)\n",
    "#save df to csv\n",
    "df.to_csv('./df.csv', index=False)"
   ]
  },
  {
   "cell_type": "code",
   "execution_count": null,
   "metadata": {},
   "outputs": [],
   "source": []
  }
 ],
 "metadata": {
  "kernelspec": {
   "display_name": "base",
   "language": "python",
   "name": "python3"
  },
  "language_info": {
   "codemirror_mode": {
    "name": "ipython",
    "version": 3
   },
   "file_extension": ".py",
   "mimetype": "text/x-python",
   "name": "python",
   "nbconvert_exporter": "python",
   "pygments_lexer": "ipython3",
   "version": "3.11.7"
  },
  "orig_nbformat": 4
 },
 "nbformat": 4,
 "nbformat_minor": 2
}
